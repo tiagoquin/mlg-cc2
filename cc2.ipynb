{
 "cells": [
  {
   "cell_type": "code",
   "execution_count": 32,
   "metadata": {},
   "outputs": [
    {
     "data": {
      "text/html": [
       "<style>.container { width:95% !important; }</style>"
      ],
      "text/plain": [
       "<IPython.core.display.HTML object>"
      ]
     },
     "metadata": {},
     "output_type": "display_data"
    }
   ],
   "source": [
    "from IPython.core.display import display, HTML\n",
    "display(HTML(\"<style>.container { width:95% !important; }</style>\"))"
   ]
  },
  {
   "cell_type": "markdown",
   "metadata": {},
   "source": [
    "# MLG CC2 - THE BURMAN TRAVELING SALESMAN PROBLEM (TSP)\n",
    " \n"
   ]
  },
  {
   "cell_type": "code",
   "execution_count": 33,
   "metadata": {},
   "outputs": [],
   "source": [
    "from pyevolve import G1DList\n",
    "from pyevolve import GAllele\n",
    "from pyevolve import GSimpleGA\n",
    "from pyevolve import Selectors\n",
    "from pyevolve import Mutators\n",
    "from pyevolve import Statistics\n",
    "from pyevolve import Crossovers\n",
    "from pyevolve import Consts"
   ]
  },
  {
   "cell_type": "code",
   "execution_count": 34,
   "metadata": {},
   "outputs": [],
   "source": [
    "import numpy as np"
   ]
  },
  {
   "cell_type": "markdown",
   "metadata": {},
   "source": [
    "#### Provided latitude longitude"
   ]
  },
  {
   "cell_type": "code",
   "execution_count": 35,
   "metadata": {},
   "outputs": [],
   "source": [
    "# Coordinates given in the assignement\n",
    "LAT = [16.47, 16.47, 20.09, 22.39, 25.23, 22.00, 20.47, \n",
    "       17.20, 16.30, 14.05, 16.53, 21.52, 19.41, 20.09]\n",
    "\n",
    "LON = [96.10, 94.44, 92.54, 93.37, 97.24, 96.05, 97.02, \n",
    "       96.29, 97.38, 98.12, 97.38, 95.59, 97.13, 94.55]\n",
    "\n",
    "# Let's group them together\n",
    "COORDINATES = list(zip(LAT, LON))"
   ]
  },
  {
   "cell_type": "code",
   "execution_count": 36,
   "metadata": {},
   "outputs": [],
   "source": [
    "from geopy.distance import geodesic\n",
    "\n",
    "def geodesic_distance(cityA, cityB):\n",
    "    \"\"\"\n",
    "    return the geodesic distance between A and B in km.\n",
    "    \"\"\"\n",
    "    return geodesic(cityA, cityB).km"
   ]
  },
  {
   "cell_type": "code",
   "execution_count": 37,
   "metadata": {},
   "outputs": [],
   "source": [
    "def distance_matrix(coords):\n",
    "    \"\"\"\n",
    "    return the distance matrix\n",
    "    \"\"\"\n",
    "    dim=len(coords)\n",
    "    dist_mat= np.empty(shape=(dim, dim), dtype=float)\n",
    "    for i, coordA in enumerate(coords):\n",
    "        for j,coordB in enumerate(coords):\n",
    "            dist= geodesic_distance(coordA, coordB)\n",
    "            dist_mat[i, j] = dist\n",
    "    \n",
    "    return dist_mat     "
   ]
  },
  {
   "cell_type": "code",
   "execution_count": 38,
   "metadata": {},
   "outputs": [],
   "source": [
    "DISTANCE_MATRIX = distance_matrix(COORDINATES)"
   ]
  },
  {
   "cell_type": "code",
   "execution_count": 39,
   "metadata": {},
   "outputs": [],
   "source": [
    "def tour_length(matrix, tour):\n",
    "    \"\"\"\n",
    "    \"\"\"\n",
    "    l = len(tour)\n",
    "    total=0.0\n",
    "    \n",
    "    for i in range(l):\n",
    "        cityA = tour[i]\n",
    "        cityB = tour[(i + 1) % l]\n",
    "        \n",
    "        total += matrix[cityA, cityB]\n",
    "    \n",
    "    return total"
   ]
  },
  {
   "cell_type": "code",
   "execution_count": 40,
   "metadata": {},
   "outputs": [],
   "source": [
    "def fitness(chromosome):\n",
    "    distance = tour_length(DISTANCE_MATRIX, chromosome)\n",
    "    return distance"
   ]
  },
  {
   "cell_type": "code",
   "execution_count": 52,
   "metadata": {},
   "outputs": [],
   "source": [
    "import sys, random\n",
    "\n",
    "\n",
    "def Initializator(genome, **args):\n",
    "    \"\"\"\n",
    "    G1DList TSP Initializator\n",
    "    \"\"\"\n",
    "    genome.clearList()\n",
    "    lst = [i for i in range(genome.getListSize())]\n",
    "    random.shuffle(lst)\n",
    "    genome.setInternalList(lst)"
   ]
  },
  {
   "cell_type": "code",
   "execution_count": 68,
   "metadata": {},
   "outputs": [],
   "source": [
    "import matplotlib.pyplot as plt \n",
    "\n",
    "\n",
    "def display_plot(path):\n",
    "    \n",
    "    path.append(path[0]) # So we have a complete tour\n",
    "    res = list(zip(*map(lambda p: COORDINATES[p], path)))\n",
    "    plt.plot(res[0],res[1], '-o')\n",
    "    plt.show()"
   ]
  },
  {
   "cell_type": "code",
   "execution_count": 70,
   "metadata": {},
   "outputs": [],
   "source": [
    "def do_ga(generations, crossover_rate, mutation_rate, population_size, freq_stats):\n",
    "    length = len(COORDINATES)\n",
    "    \n",
    "    setOfAlleles = GAllele.GAlleles(homogeneous=True)\n",
    "    lst = [ i for i in range(length) ]\n",
    "    a = GAllele.GAlleleList(lst)\n",
    "    setOfAlleles.add(a)\n",
    "    \n",
    "    genome = G1DList.G1DList(length)\n",
    "    genome.setParams(allele=setOfAlleles)\n",
    "    \n",
    "    genome.evaluator.set(fitness)\n",
    "    genome.mutator.set(Mutators.G1DListMutatorSwap)\n",
    "    genome.crossover.set(Crossovers.G1DListCrossoverOX)\n",
    "    genome.initializator.set(Initializator)\n",
    "    \n",
    "    ga = GSimpleGA.GSimpleGA(genome)\n",
    "    ga.setGenerations(generations)\n",
    "    ga.setMinimax(Consts.minimaxType[\"minimize\"])\n",
    "    ga.setCrossoverRate(crossover_rate)\n",
    "    ga.setMutationRate(mutation_rate)\n",
    "    ga.setPopulationSize(population_size)\n",
    "    \n",
    "    ga.setElitism(True)\n",
    "\n",
    "    ga.evolve(freq_stats=freq_stats)\n",
    "    \n",
    "    # Take the best and display\n",
    "    best = ga.bestIndividual()\n",
    "    sol = best.genomeList\n",
    "\n",
    "    print(best)\n",
    "    return sol\n"
   ]
  },
  {
   "cell_type": "code",
   "execution_count": 73,
   "metadata": {
    "scrolled": false
   },
   "outputs": [
    {
     "name": "stdout",
     "output_type": "stream",
     "text": [
      "Gen. 0 (0.00%): Max/Min/Avg Fitness(Raw)             [8083.37(8668.11)/5068.11(4344.12)/6736.14(6736.14)]\n",
      "Gen. 60 (6.00%): Max/Min/Avg Fitness(Raw)             [4734.67(6720.78)/3850.43(3611.01)/3945.56(3945.56)]\n",
      "Gen. 120 (12.00%): Max/Min/Avg Fitness(Raw)             [4640.57(5992.47)/3739.32(3515.90)/3867.14(3867.14)]\n",
      "Gen. 180 (18.00%): Max/Min/Avg Fitness(Raw)             [4571.77(6013.89)/3708.20(3515.90)/3809.81(3809.81)]\n",
      "Gen. 240 (24.00%): Max/Min/Avg Fitness(Raw)             [4614.24(6186.75)/3737.05(3515.90)/3845.20(3845.20)]\n",
      "Gen. 300 (30.00%): Max/Min/Avg Fitness(Raw)             [4541.69(6346.36)/3655.32(3346.76)/3784.75(3784.75)]\n",
      "Gen. 360 (36.00%): Max/Min/Avg Fitness(Raw)             [4339.86(6320.25)/3544.38(3346.76)/3616.55(3616.55)]\n",
      "Gen. 420 (42.00%): Max/Min/Avg Fitness(Raw)             [4398.13(6073.45)/3568.22(3346.76)/3665.11(3665.11)]\n",
      "Gen. 480 (48.00%): Max/Min/Avg Fitness(Raw)             [4452.93(6729.79)/3621.29(3346.76)/3710.78(3710.78)]\n",
      "Gen. 540 (54.00%): Max/Min/Avg Fitness(Raw)             [4499.79(7485.82)/3668.91(3346.76)/3749.82(3749.82)]\n",
      "Gen. 600 (60.00%): Max/Min/Avg Fitness(Raw)             [4380.00(6296.77)/3566.37(3346.76)/3650.00(3650.00)]\n",
      "Gen. 660 (66.00%): Max/Min/Avg Fitness(Raw)             [4370.62(7540.25)/3586.98(3346.76)/3642.19(3642.19)]\n",
      "Gen. 720 (72.00%): Max/Min/Avg Fitness(Raw)             [4444.23(6717.34)/3615.84(3346.76)/3703.52(3703.52)]\n",
      "Gen. 780 (78.00%): Max/Min/Avg Fitness(Raw)             [4488.34(6811.40)/3644.43(3346.76)/3740.29(3740.29)]\n",
      "Gen. 840 (84.00%): Max/Min/Avg Fitness(Raw)             [4407.61(5912.17)/3565.98(3346.76)/3673.01(3673.01)]\n",
      "Gen. 900 (90.00%): Max/Min/Avg Fitness(Raw)             [4434.79(6189.24)/3592.24(3346.76)/3695.66(3695.66)]\n",
      "Gen. 960 (96.00%): Max/Min/Avg Fitness(Raw)             [4432.26(6616.38)/3605.91(3346.76)/3693.55(3693.55)]\n",
      "Gen. 1000 (100.00%): Max/Min/Avg Fitness(Raw)             [4464.59(6169.79)/3606.95(3346.76)/3720.49(3720.49)]\n",
      "Total time elapsed: 6.816 seconds.\n",
      "- GenomeBase\n",
      "\tScore:\t\t\t 3346.761974\n",
      "\tFitness:\t\t 3606.952202\n",
      "\n",
      "\tParams:\t\t {'allele': - GAlleles\n",
      "\tHomogeneous:\t True\n",
      "\tList size:\t 1\n",
      "\tAlleles:\n",
      "\n",
      "Allele for position 0:\n",
      "- GAlleleList\n",
      "\tList size:\t 14\n",
      "\tAllele Options:\t [0, 1, 2, 3, 4, 5, 6, 7, 8, 9, 10, 11, 12, 13]\n",
      "\n",
      "}\n",
      "\n",
      "\tSlot [Evaluator] (Count: 1)\n",
      "\t\tName: fitness - Weight: 0.50\n",
      "\tSlot [Initializator] (Count: 1)\n",
      "\t\tName: Initializator - Weight: 0.50\n",
      "\t\tDoc: \n",
      "    G1DList TSP Initializator\n",
      "    \n",
      "\tSlot [Mutator] (Count: 1)\n",
      "\t\tName: G1DListMutatorSwap - Weight: 0.50\n",
      "\t\tDoc:  The mutator of G1DList, Swap Mutator\n",
      "\n",
      "    .. note:: this mutator is :term:`Data Type Independent`\n",
      "\n",
      "    \n",
      "\tSlot [Crossover] (Count: 1)\n",
      "\t\tName: G1DListCrossoverOX - Weight: 0.50\n",
      "\t\tDoc:  The OX Crossover for G1DList  (order crossover) \n",
      "\n",
      "- G1DList\n",
      "\tList size:\t 14\n",
      "\tList:\t\t [12, 7, 10, 8, 9, 0, 1, 13, 2, 3, 4, 5, 11, 6]\n",
      "\n",
      "\n"
     ]
    }
   ],
   "source": [
    "GENERATIONS = 1000\n",
    "crossover_rate, \n",
    "mutation_rate, \n",
    "population_size,\n",
    "freq_stats\n",
    "\n",
    "solution = do_ga(GENERATIONS, 1.0, 0.03, 200, 60)"
   ]
  },
  {
   "cell_type": "code",
   "execution_count": 74,
   "metadata": {},
   "outputs": [
    {
     "data": {
      "image/png": "[encoded data removed]",
      "text/plain": [
       "<Figure size 432x288 with 1 Axes>"
      ]
     },
     "metadata": {
      "needs_background": "light"
     },
     "output_type": "display_data"
    }
   ],
   "source": [
    "display_plot(solution)"
   ]
  },
  {
   "cell_type": "code",
   "execution_count": null,
   "metadata": {},
   "outputs": [],
   "source": []
  }
 ],
 "metadata": {
  "kernelspec": {
   "display_name": "mlg",
   "language": "python",
   "name": "mlg"
  },
  "language_info": {
   "codemirror_mode": {
    "name": "ipython",
    "version": 3
   },
   "file_extension": ".py",
   "mimetype": "text/x-python",
   "name": "python",
   "nbconvert_exporter": "python",
   "pygments_lexer": "ipython3",
   "version": "3.7.7"
  }
 },
 "nbformat": 4,
 "nbformat_minor": 4
}
