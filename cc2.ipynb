{
 "cells": [
  {
   "cell_type": "code",
   "execution_count": 1,
   "metadata": {},
   "outputs": [
    {
     "data": {
      "text/html": [
       "<style>.container { width:95% !important; }</style>"
      ],
      "text/plain": [
       "<IPython.core.display.HTML object>"
      ]
     },
     "metadata": {},
     "output_type": "display_data"
    }
   ],
   "source": [
    "from IPython.core.display import display, HTML\n",
    "display(HTML(\"<style>.container { width:95% !important; }</style>\"))"
   ]
  },
  {
   "cell_type": "markdown",
   "metadata": {},
   "source": [
    "# MLG CC2 - THE BURMAN TRAVELING SALESMAN PROBLEM (TSP)\n",
    " \n"
   ]
  },
  {
   "cell_type": "code",
   "execution_count": 2,
   "metadata": {
    "scrolled": true
   },
   "outputs": [],
   "source": [
    "from pyevolve import G1DList\n",
    "from pyevolve import GAllele\n",
    "from pyevolve import DBAdapters\n",
    "from pyevolve import GSimpleGA\n",
    "from pyevolve import Selectors\n",
    "from pyevolve import Mutators\n",
    "from pyevolve import Statistics\n",
    "from pyevolve import Crossovers\n",
    "from pyevolve import Consts"
   ]
  },
  {
   "cell_type": "code",
   "execution_count": 3,
   "metadata": {},
   "outputs": [],
   "source": [
    "import numpy as np"
   ]
  },
  {
   "cell_type": "markdown",
   "metadata": {},
   "source": [
    "#### Provided latitude longitude"
   ]
  },
  {
   "cell_type": "code",
   "execution_count": 4,
   "metadata": {},
   "outputs": [],
   "source": [
    "# Coordinates given in the assignement\n",
    "LAT = [16.47, 16.47, 20.09, 22.39, 25.23, 22.00, 20.47, \n",
    "       17.20, 16.30, 14.05, 16.53, 21.52, 19.41, 20.09]\n",
    "\n",
    "LON = [96.10, 94.44, 92.54, 93.37, 97.24, 96.05, 97.02, \n",
    "       96.29, 97.38, 98.12, 97.38, 95.59, 97.13, 94.55]\n",
    "\n",
    "# Let's group them together\n",
    "COORDINATES = list(zip(LAT, LON))"
   ]
  },
  {
   "cell_type": "code",
   "execution_count": 5,
   "metadata": {},
   "outputs": [],
   "source": [
    "from geopy.distance import geodesic\n",
    "\n",
    "def geodesic_distance(cityA, cityB):\n",
    "    \"\"\"\n",
    "    return the geodesic distance between A and B in km.\n",
    "    \"\"\"\n",
    "    return geodesic(cityA, cityB).km"
   ]
  },
  {
   "cell_type": "code",
   "execution_count": 6,
   "metadata": {},
   "outputs": [],
   "source": [
    "def distance_matrix(coords):\n",
    "    \"\"\"\n",
    "    Inspiration: http://www.psychicorigami.com/2007/04/17/tackling-the-travelling-salesman-problem-part-one/\n",
    "    return the distance matrix\n",
    "    \"\"\"\n",
    "    dim=len(coords)\n",
    "    dist_mat= np.empty(shape=(dim, dim), dtype=float)\n",
    "    for i, coordA in enumerate(coords):\n",
    "        for j,coordB in enumerate(coords):\n",
    "            dist= geodesic_distance(coordA, coordB)\n",
    "            dist_mat[i, j] = dist\n",
    "    \n",
    "    return dist_mat     "
   ]
  },
  {
   "cell_type": "code",
   "execution_count": 7,
   "metadata": {},
   "outputs": [],
   "source": [
    "DISTANCE_MATRIX = distance_matrix(COORDINATES)"
   ]
  },
  {
   "cell_type": "code",
   "execution_count": 8,
   "metadata": {},
   "outputs": [],
   "source": [
    "def tour_length(matrix, tour):\n",
    "    \"\"\"\n",
    "    \"\"\"\n",
    "    l = len(tour)\n",
    "    total=0.0\n",
    "    \n",
    "    for i in range(l):\n",
    "        cityA = tour[i]\n",
    "        cityB = tour[(i + 1) % l]\n",
    "        \n",
    "        total += matrix[cityA, cityB]\n",
    "    \n",
    "    return total"
   ]
  },
  {
   "cell_type": "code",
   "execution_count": 9,
   "metadata": {},
   "outputs": [],
   "source": [
    "def fitness(chromosome):\n",
    "    distance = tour_length(DISTANCE_MATRIX, chromosome)\n",
    "    return distance"
   ]
  },
  {
   "cell_type": "code",
   "execution_count": 10,
   "metadata": {},
   "outputs": [],
   "source": [
    "import sys, random\n",
    "\n",
    "\n",
    "def Initializator(genome, **args):\n",
    "    \"\"\"\n",
    "    G1DList TSP Initializator\n",
    "    \"\"\"\n",
    "    genome.clearList()\n",
    "    lst = [i for i in range(genome.getListSize())]\n",
    "    random.shuffle(lst)\n",
    "    genome.setInternalList(lst)"
   ]
  },
  {
   "cell_type": "code",
   "execution_count": 11,
   "metadata": {},
   "outputs": [],
   "source": [
    "import matplotlib.pyplot as plt \n",
    "\n",
    "\n",
    "def display_plot(path):\n",
    "    \n",
    "    path.append(path[0]) # So we have a complete tour\n",
    "    res = list(zip(*map(lambda p: COORDINATES[p], path)))\n",
    "    plt.plot(res[0],res[1], '-o')\n",
    "    plt.show()"
   ]
  },
  {
   "cell_type": "code",
   "execution_count": 12,
   "metadata": {},
   "outputs": [],
   "source": [
    "def do_ga(generations, crossover_rate, mutation_rate, population_size, freq_stats):\n",
    "    \"\"\"\n",
    "    Inspiration: http://pyevolve.sourceforge.net/examples.html#example-12-the-travelling-salesman-problem-tsp\n",
    "    \"\"\"\n",
    "    length = len(COORDINATES)\n",
    "    \n",
    "    setOfAlleles = GAllele.GAlleles(homogeneous=True)\n",
    "    lst = [ i for i in range(length) ]\n",
    "    a = GAllele.GAlleleList(lst)\n",
    "    setOfAlleles.add(a)\n",
    "    \n",
    "    genome = G1DList.G1DList(length)\n",
    "    genome.setParams(allele=setOfAlleles)\n",
    "    \n",
    "    genome.evaluator.set(fitness)\n",
    "    genome.mutator.set(Mutators.G1DListMutatorSwap)\n",
    "    genome.crossover.set(Crossovers.G1DListCrossoverOX)\n",
    "    genome.initializator.set(Initializator)\n",
    "    \n",
    "    ga = GSimpleGA.GSimpleGA(genome)\n",
    "    \n",
    "    # Record evolution results in a database\n",
    "    sqlite_adapter = DBAdapters.DBSQLite(identify=\"log_tsp\", resetDB=True)\n",
    "    ga.setDBAdapter(sqlite_adapter)\n",
    "    \n",
    "    ga.setGenerations(generations)\n",
    "    ga.setMinimax(Consts.minimaxType[\"minimize\"])\n",
    "    ga.setCrossoverRate(crossover_rate)\n",
    "    ga.setMutationRate(mutation_rate)\n",
    "    ga.setPopulationSize(population_size)\n",
    "    \n",
    "    ga.setElitism(True)\n",
    "\n",
    "    ga.evolve(freq_stats=freq_stats)\n",
    "        \n",
    "    # Take the best and display\n",
    "    best = ga.bestIndividual()\n",
    "    sol = best.genomeList\n",
    "\n",
    "    print(best)\n",
    "    return sol\n"
   ]
  },
  {
   "cell_type": "code",
   "execution_count": null,
   "metadata": {
    "scrolled": false
   },
   "outputs": [
    {
     "name": "stdout",
     "output_type": "stream",
     "text": [
      "Gen. 0 (0.00%): "
     ]
    }
   ],
   "source": [
    "# Hyper parameters\n",
    "GENERATIONS = 100\n",
    "CROSSOVER_RATE = 1.0 \n",
    "MUTATION_RATE = 0.03 \n",
    "POPULATION_SIZE = 100\n",
    "FREQ_STATS = 20\n",
    "\n",
    "solution = do_ga(GENERATIONS, CROSSOVER_RATE, MUTATION_RATE, POPULATION_SIZE, FREQ_STATS)\n",
    "\n"
   ]
  },
  {
   "cell_type": "code",
   "execution_count": null,
   "metadata": {},
   "outputs": [],
   "source": [
    "display_plot(solution)"
   ]
  },
  {
   "cell_type": "code",
   "execution_count": null,
   "metadata": {},
   "outputs": [],
   "source": [
    "# anaconda3 or miniconda3\n",
    "# change env name\n",
    "# Generate a graph showing the evolutionary results: fitness vs generations\n",
    "%run ~/anaconda3/envs/mlg/bin/pyevolve_graph.py -i log_tsp -2"
   ]
  },
  {
   "cell_type": "code",
   "execution_count": null,
   "metadata": {
    "scrolled": true
   },
   "outputs": [],
   "source": [
    "# Generate a heatmap of population fitness score distribution over generations\n",
    "%run ~/anaconda3/envs/mlg/bin/pyevolve_graph.py -i log_tsp -9"
   ]
  },
  {
   "cell_type": "code",
   "execution_count": null,
   "metadata": {},
   "outputs": [],
   "source": []
  }
 ],
 "metadata": {
  "kernelspec": {
   "display_name": "Python 3",
   "language": "python",
   "name": "python3"
  },
  "language_info": {
   "codemirror_mode": {
    "name": "ipython",
    "version": 3
   },
   "file_extension": ".py",
   "mimetype": "text/x-python",
   "name": "python",
   "nbconvert_exporter": "python",
   "pygments_lexer": "ipython3",
   "version": "3.7.7"
  }
 },
 "nbformat": 4,
 "nbformat_minor": 4
}
