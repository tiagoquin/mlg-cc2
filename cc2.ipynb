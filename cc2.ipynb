{
 "cells": [
  {
   "cell_type": "code",
   "execution_count": 32,
   "metadata": {},
   "outputs": [
    {
     "data": {
      "text/html": [
       "<style>.container { width:95% !important; }</style>"
      ],
      "text/plain": [
       "<IPython.core.display.HTML object>"
      ]
     },
     "metadata": {},
     "output_type": "display_data"
    }
   ],
   "source": [
    "from IPython.core.display import display, HTML\n",
    "display(HTML(\"<style>.container { width:95% !important; }</style>\"))"
   ]
  },
  {
   "cell_type": "markdown",
   "metadata": {},
   "source": [
    "# MLG CC2 - THE BURMAN TRAVELING SALESMAN PROBLEM (TSP)\n",
    " \n"
   ]
  },
  {
   "cell_type": "code",
   "execution_count": 33,
   "metadata": {},
   "outputs": [],
   "source": [
    "from pyevolve import G1DList\n",
    "from pyevolve import GAllele\n",
    "from pyevolve import GSimpleGA\n",
    "from pyevolve import Selectors\n",
    "from pyevolve import Mutators\n",
    "from pyevolve import Statistics\n",
    "from pyevolve import Crossovers\n",
    "from pyevolve import Consts"
   ]
  },
  {
   "cell_type": "code",
   "execution_count": 34,
   "metadata": {},
   "outputs": [],
   "source": [
    "import numpy as np"
   ]
  },
  {
   "cell_type": "markdown",
   "metadata": {},
   "source": [
    "#### Provided latitude longitude"
   ]
  },
  {
   "cell_type": "code",
   "execution_count": 35,
   "metadata": {},
   "outputs": [],
   "source": [
    "# Coordinates given in the assignement\n",
    "LAT = [16.47, 16.47, 20.09, 22.39, 25.23, 22.00, 20.47, \n",
    "       17.20, 16.30, 14.05, 16.53, 21.52, 19.41, 20.09]\n",
    "\n",
    "LON = [96.10, 94.44, 92.54, 93.37, 97.24, 96.05, 97.02, \n",
    "       96.29, 97.38, 98.12, 97.38, 95.59, 97.13, 94.55]\n",
    "\n",
    "# Let's group them together\n",
    "COORDINATES = list(zip(LAT, LON))"
   ]
  },
  {
   "cell_type": "code",
   "execution_count": 36,
   "metadata": {},
   "outputs": [],
   "source": [
    "from geopy.distance import geodesic\n",
    "\n",
    "def geodesic_distance(cityA, cityB):\n",
    "    \"\"\"\n",
    "    return the geodesic distance between A and B in km.\n",
    "    \"\"\"\n",
    "    return geodesic(cityA, cityB).km"
   ]
  },
  {
   "cell_type": "code",
   "execution_count": 37,
   "metadata": {},
   "outputs": [],
   "source": [
    "def distance_matrix(coords):\n",
    "    \"\"\"\n",
    "    Inspiration: http://www.psychicorigami.com/2007/04/17/tackling-the-travelling-salesman-problem-part-one/\n",
    "    return the distance matrix\n",
    "    \"\"\"\n",
    "    dim=len(coords)\n",
    "    dist_mat= np.empty(shape=(dim, dim), dtype=float)\n",
    "    for i, coordA in enumerate(coords):\n",
    "        for j,coordB in enumerate(coords):\n",
    "            dist= geodesic_distance(coordA, coordB)\n",
    "            dist_mat[i, j] = dist\n",
    "    \n",
    "    return dist_mat     "
   ]
  },
  {
   "cell_type": "code",
   "execution_count": 38,
   "metadata": {},
   "outputs": [],
   "source": [
    "DISTANCE_MATRIX = distance_matrix(COORDINATES)"
   ]
  },
  {
   "cell_type": "code",
   "execution_count": 39,
   "metadata": {},
   "outputs": [],
   "source": [
    "def tour_length(matrix, tour):\n",
    "    \"\"\"\n",
    "    \"\"\"\n",
    "    l = len(tour)\n",
    "    total=0.0\n",
    "    \n",
    "    for i in range(l):\n",
    "        cityA = tour[i]\n",
    "        cityB = tour[(i + 1) % l]\n",
    "        \n",
    "        total += matrix[cityA, cityB]\n",
    "    \n",
    "    return total"
   ]
  },
  {
   "cell_type": "code",
   "execution_count": 40,
   "metadata": {},
   "outputs": [],
   "source": [
    "def fitness(chromosome):\n",
    "    distance = tour_length(DISTANCE_MATRIX, chromosome)\n",
    "    return distance"
   ]
  },
  {
   "cell_type": "code",
   "execution_count": 52,
   "metadata": {},
   "outputs": [],
   "source": [
    "import sys, random\n",
    "\n",
    "\n",
    "def Initializator(genome, **args):\n",
    "    \"\"\"\n",
    "    G1DList TSP Initializator\n",
    "    \"\"\"\n",
    "    genome.clearList()\n",
    "    lst = [i for i in range(genome.getListSize())]\n",
    "    random.shuffle(lst)\n",
    "    genome.setInternalList(lst)"
   ]
  },
  {
   "cell_type": "code",
   "execution_count": 68,
   "metadata": {},
   "outputs": [],
   "source": [
    "import matplotlib.pyplot as plt \n",
    "\n",
    "\n",
    "def display_plot(path):\n",
    "    \n",
    "    path.append(path[0]) # So we have a complete tour\n",
    "    res = list(zip(*map(lambda p: COORDINATES[p], path)))\n",
    "    plt.plot(res[0],res[1], '-o')\n",
    "    plt.show()"
   ]
  },
  {
   "cell_type": "code",
   "execution_count": 78,
   "metadata": {},
   "outputs": [],
   "source": [
    "def do_ga(generations, crossover_rate, mutation_rate, population_size, freq_stats):\n",
    "    \"\"\"\n",
    "    Inspiration: http://pyevolve.sourceforge.net/examples.html#example-12-the-travelling-salesman-problem-tsp\n",
    "    \"\"\"\n",
    "    length = len(COORDINATES)\n",
    "    \n",
    "    setOfAlleles = GAllele.GAlleles(homogeneous=True)\n",
    "    lst = [ i for i in range(length) ]\n",
    "    a = GAllele.GAlleleList(lst)\n",
    "    setOfAlleles.add(a)\n",
    "    \n",
    "    genome = G1DList.G1DList(length)\n",
    "    genome.setParams(allele=setOfAlleles)\n",
    "    \n",
    "    genome.evaluator.set(fitness)\n",
    "    genome.mutator.set(Mutators.G1DListMutatorSwap)\n",
    "    genome.crossover.set(Crossovers.G1DListCrossoverOX)\n",
    "    genome.initializator.set(Initializator)\n",
    "    \n",
    "    ga = GSimpleGA.GSimpleGA(genome)\n",
    "    ga.setGenerations(generations)\n",
    "    ga.setMinimax(Consts.minimaxType[\"minimize\"])\n",
    "    ga.setCrossoverRate(crossover_rate)\n",
    "    ga.setMutationRate(mutation_rate)\n",
    "    ga.setPopulationSize(population_size)\n",
    "    \n",
    "    ga.setElitism(True)\n",
    "\n",
    "    ga.evolve(freq_stats=freq_stats)\n",
    "    \n",
    "    # Take the best and display\n",
    "    best = ga.bestIndividual()\n",
    "    sol = best.genomeList\n",
    "\n",
    "    print(best)\n",
    "    return sol\n"
   ]
  },
  {
   "cell_type": "code",
   "execution_count": 79,
   "metadata": {
    "scrolled": false
   },
   "outputs": [
    {
     "name": "stdout",
     "output_type": "stream",
     "text": [
      "Gen. 0 (0.00%): Max/Min/Avg Fitness(Raw)             [8083.18(8248.66)/5134.20(4937.45)/6735.98(6735.98)]\n",
      "Gen. 20 (2.00%): Max/Min/Avg Fitness(Raw)             [4616.96(6405.11)/3727.40(3448.39)/3847.46(3847.46)]\n",
      "Gen. 40 (4.00%): Max/Min/Avg Fitness(Raw)             [4485.32(5972.25)/3640.95(3448.39)/3737.77(3737.77)]\n",
      "Gen. 60 (6.00%): Max/Min/Avg Fitness(Raw)             [4601.08(7174.96)/3745.67(3448.39)/3834.24(3834.24)]\n",
      "Gen. 80 (8.00%): Max/Min/Avg Fitness(Raw)             [4528.89(6393.49)/3680.23(3448.39)/3774.08(3774.08)]\n",
      "Gen. 100 (10.00%): Max/Min/Avg Fitness(Raw)             [4598.93(6830.72)/3734.26(3448.39)/3832.45(3832.45)]\n",
      "Gen. 120 (12.00%): Max/Min/Avg Fitness(Raw)             [4459.67(5924.96)/3626.20(3448.39)/3716.39(3716.39)]\n",
      "Gen. 140 (14.00%): Max/Min/Avg Fitness(Raw)             [4480.53(6539.94)/3657.83(3448.39)/3733.78(3733.78)]\n",
      "Gen. 160 (16.00%): Max/Min/Avg Fitness(Raw)             [4603.17(6375.54)/3718.88(3448.39)/3835.97(3835.97)]\n",
      "Gen. 180 (18.00%): Max/Min/Avg Fitness(Raw)             [4494.04(5862.88)/3640.12(3448.39)/3745.03(3745.03)]\n",
      "Gen. 200 (20.00%): Max/Min/Avg Fitness(Raw)             [4530.26(6934.73)/3697.11(3448.39)/3775.22(3775.22)]\n",
      "Gen. 220 (22.00%): Max/Min/Avg Fitness(Raw)             [4544.33(5924.96)/3667.01(3448.39)/3786.94(3786.94)]\n",
      "Gen. 240 (24.00%): Max/Min/Avg Fitness(Raw)             [4538.09(6774.97)/3697.51(3448.39)/3781.74(3781.74)]\n",
      "Gen. 260 (26.00%): Max/Min/Avg Fitness(Raw)             [4643.93(7508.44)/3780.26(3448.39)/3869.94(3869.94)]\n",
      "Gen. 280 (28.00%): Max/Min/Avg Fitness(Raw)             [4541.67(7351.11)/3713.34(3448.39)/3784.72(3784.72)]\n",
      "Gen. 300 (30.00%): Max/Min/Avg Fitness(Raw)             [4545.09(6025.35)/3672.76(3448.39)/3787.58(3787.58)]\n",
      "Gen. 320 (32.00%): Max/Min/Avg Fitness(Raw)             [4457.65(6777.91)/3650.11(3448.39)/3714.71(3714.71)]\n",
      "Gen. 340 (34.00%): Max/Min/Avg Fitness(Raw)             [4579.97(6844.43)/3723.80(3448.39)/3816.65(3816.65)]\n",
      "Gen. 360 (36.00%): Max/Min/Avg Fitness(Raw)             [4581.05(6315.91)/3704.73(3448.39)/3817.54(3817.54)]\n",
      "Gen. 380 (38.00%): Max/Min/Avg Fitness(Raw)             [4538.49(6421.73)/3686.45(3448.39)/3782.07(3782.07)]\n",
      "Gen. 400 (40.00%): Max/Min/Avg Fitness(Raw)             [4527.78(7134.34)/3700.24(3448.39)/3773.15(3773.15)]\n",
      "Gen. 420 (42.00%): Max/Min/Avg Fitness(Raw)             [4603.48(6465.31)/3723.05(3448.39)/3836.23(3836.23)]\n",
      "Gen. 440 (44.00%): Max/Min/Avg Fitness(Raw)             [4597.35(6940.00)/3736.79(3448.39)/3831.12(3831.12)]\n",
      "Gen. 460 (46.00%): Max/Min/Avg Fitness(Raw)             [4577.36(5924.96)/3682.14(3448.39)/3814.47(3814.47)]\n",
      "Gen. 480 (48.00%): Max/Min/Avg Fitness(Raw)             [4673.69(6808.12)/3775.40(3448.39)/3894.74(3894.74)]\n",
      "Gen. 500 (50.00%): Max/Min/Avg Fitness(Raw)             [4468.19(5714.30)/3620.59(3448.39)/3723.50(3723.50)]\n",
      "Gen. 520 (52.00%): Max/Min/Avg Fitness(Raw)             [4526.61(6874.99)/3693.45(3448.39)/3772.17(3772.17)]\n",
      "Gen. 540 (54.00%): Max/Min/Avg Fitness(Raw)             [4571.63(6170.31)/3693.07(3448.39)/3809.69(3809.69)]\n",
      "Gen. 560 (56.00%): Max/Min/Avg Fitness(Raw)             [4503.82(6933.76)/3681.25(3448.39)/3753.18(3753.18)]\n",
      "Gen. 580 (58.00%): Max/Min/Avg Fitness(Raw)             [4544.52(7029.71)/3707.98(3448.39)/3787.10(3787.10)]\n",
      "Gen. 600 (60.00%): Max/Min/Avg Fitness(Raw)             [4591.78(7203.21)/3740.79(3448.39)/3826.49(3826.49)]\n",
      "Gen. 620 (62.00%): Max/Min/Avg Fitness(Raw)             [4523.78(6186.98)/3669.56(3448.39)/3769.82(3769.82)]\n",
      "Gen. 640 (64.00%): Max/Min/Avg Fitness(Raw)             [4583.62(7975.73)/3751.44(3448.39)/3819.69(3819.69)]\n",
      "Gen. 660 (66.00%): Max/Min/Avg Fitness(Raw)             [4500.34(7261.02)/3685.79(3448.39)/3750.29(3750.29)]\n",
      "Gen. 680 (68.00%): Max/Min/Avg Fitness(Raw)             [4609.64(6902.23)/3742.73(3448.39)/3841.36(3841.36)]\n",
      "Gen. 700 (70.00%): Max/Min/Avg Fitness(Raw)             [4610.10(7382.05)/3756.38(3448.39)/3841.75(3841.75)]\n",
      "Gen. 720 (72.00%): Max/Min/Avg Fitness(Raw)             [4527.80(6059.59)/3665.97(3448.39)/3773.17(3773.17)]\n",
      "Gen. 740 (74.00%): Max/Min/Avg Fitness(Raw)             [4583.43(6439.40)/3711.31(3448.39)/3819.52(3819.52)]\n",
      "Gen. 760 (76.00%): Max/Min/Avg Fitness(Raw)             [4531.69(6370.52)/3680.90(3448.39)/3776.41(3776.41)]\n",
      "Gen. 780 (78.00%): Max/Min/Avg Fitness(Raw)             [4551.34(7664.92)/3725.31(3448.39)/3792.78(3792.78)]\n",
      "Gen. 800 (80.00%): Max/Min/Avg Fitness(Raw)             [4427.89(5761.92)/3603.89(3448.39)/3689.91(3689.91)]\n",
      "Gen. 820 (82.00%): Max/Min/Avg Fitness(Raw)             [4520.25(7495.64)/3702.53(3448.39)/3766.87(3766.87)]\n",
      "Gen. 840 (84.00%): Max/Min/Avg Fitness(Raw)             [4496.37(6375.54)/3661.85(3448.39)/3746.97(3746.97)]\n",
      "Gen. 860 (86.00%): Max/Min/Avg Fitness(Raw)             [4410.43(6132.32)/3607.45(3448.39)/3675.36(3675.36)]\n",
      "Gen. 880 (88.00%): Max/Min/Avg Fitness(Raw)             [4523.74(6417.41)/3678.26(3448.39)/3769.78(3769.78)]\n",
      "Gen. 900 (90.00%): Max/Min/Avg Fitness(Raw)             [4614.20(6750.98)/3740.16(3448.39)/3845.17(3845.17)]\n",
      "Gen. 920 (92.00%): Max/Min/Avg Fitness(Raw)             [4659.53(7350.49)/3785.62(3448.39)/3882.94(3882.94)]\n",
      "Gen. 940 (94.00%): Max/Min/Avg Fitness(Raw)             [4539.31(6869.06)/3700.79(3448.39)/3782.76(3782.76)]\n",
      "Gen. 960 (96.00%): Max/Min/Avg Fitness(Raw)             [4523.80(7218.71)/3699.56(3448.39)/3769.83(3769.83)]\n",
      "Gen. 980 (98.00%): Max/Min/Avg Fitness(Raw)             [4514.03(6190.52)/3664.65(3448.39)/3761.69(3761.69)]\n",
      "Gen. 1000 (100.00%): Max/Min/Avg Fitness(Raw)             [4537.05(7406.69)/3711.54(3448.39)/3780.88(3780.88)]\n",
      "Total time elapsed: 6.919 seconds.\n",
      "- GenomeBase\n",
      "\tScore:\t\t\t 3448.386936\n",
      "\tFitness:\t\t 3711.536402\n",
      "\n",
      "\tParams:\t\t {'allele': - GAlleles\n",
      "\tHomogeneous:\t True\n",
      "\tList size:\t 1\n",
      "\tAlleles:\n",
      "\n",
      "Allele for position 0:\n",
      "- GAlleleList\n",
      "\tList size:\t 14\n",
      "\tAllele Options:\t [0, 1, 2, 3, 4, 5, 6, 7, 8, 9, 10, 11, 12, 13]\n",
      "\n",
      "}\n",
      "\n",
      "\tSlot [Evaluator] (Count: 1)\n",
      "\t\tName: fitness - Weight: 0.50\n",
      "\tSlot [Initializator] (Count: 1)\n",
      "\t\tName: Initializator - Weight: 0.50\n",
      "\t\tDoc: \n",
      "    G1DList TSP Initializator\n",
      "    \n",
      "\tSlot [Mutator] (Count: 1)\n",
      "\t\tName: G1DListMutatorSwap - Weight: 0.50\n",
      "\t\tDoc:  The mutator of G1DList, Swap Mutator\n",
      "\n",
      "    .. note:: this mutator is :term:`Data Type Independent`\n",
      "\n",
      "    \n",
      "\tSlot [Crossover] (Count: 1)\n",
      "\t\tName: G1DListCrossoverOX - Weight: 0.50\n",
      "\t\tDoc:  The OX Crossover for G1DList  (order crossover) \n",
      "\n",
      "- G1DList\n",
      "\tList size:\t 14\n",
      "\tList:\t\t [8, 9, 0, 1, 2, 3, 4, 5, 11, 13, 6, 12, 7, 10]\n",
      "\n",
      "\n"
     ]
    }
   ],
   "source": [
    "# Hyper parameters\n",
    "GENERATIONS = 1000\n",
    "CROSSOVER_RATE = 1.0 \n",
    "MUTATION_RATE = 0.03 \n",
    "POPULATION_SIZE = 200\n",
    "FREQ_STATS = 20\n",
    "\n",
    "solution = do_ga(GENERATIONS, CROSSOVER_RATE, MUTATION_RATE, POPULATION_SIZE, FREQ_STATS)"
   ]
  },
  {
   "cell_type": "code",
   "execution_count": 80,
   "metadata": {},
   "outputs": [
    {
     "data": {
      "image/png": "[encoded data removed]",
      "text/plain": [
       "<Figure size 432x288 with 1 Axes>"
      ]
     },
     "metadata": {
      "needs_background": "light"
     },
     "output_type": "display_data"
    }
   ],
   "source": [
    "display_plot(solution)"
   ]
  },
  {
   "cell_type": "code",
   "execution_count": null,
   "metadata": {},
   "outputs": [],
   "source": []
  }
 ],
 "metadata": {
  "kernelspec": {
   "display_name": "mlg",
   "language": "python",
   "name": "mlg"
  },
  "language_info": {
   "codemirror_mode": {
    "name": "ipython",
    "version": 3
   },
   "file_extension": ".py",
   "mimetype": "text/x-python",
   "name": "python",
   "nbconvert_exporter": "python",
   "pygments_lexer": "ipython3",
   "version": "3.7.7"
  }
 },
 "nbformat": 4,
 "nbformat_minor": 4
}
